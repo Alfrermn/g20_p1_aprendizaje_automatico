{
  "nbformat": 4,
  "nbformat_minor": 0,
  "metadata": {
    "colab": {
      "provenance": [],
      "authorship_tag": "ABX9TyNYHcqb2OClvmk3wA7EoexH",
      "include_colab_link": true
    },
    "kernelspec": {
      "name": "python3",
      "display_name": "Python 3"
    },
    "language_info": {
      "name": "python"
    }
  },
  "cells": [
    {
      "cell_type": "markdown",
      "metadata": {
        "id": "view-in-github",
        "colab_type": "text"
      },
      "source": [
        "<a href=\"https://colab.research.google.com/github/Alfrermn/g20_p1_aprendizaje_automatico/blob/main/p1_g20.ipynb\" target=\"_parent\"><img src=\"https://colab.research.google.com/assets/colab-badge.svg\" alt=\"Open In Colab\"/></a>"
      ]
    },
    {
      "cell_type": "markdown",
      "source": [
        "Inicio de la práctica 1 del grupo 20 de aprendizaje automático.\n",
        "Alfredo Román Campos, 100451008\n",
        "Pedro Monedero Orenes, 100451014"
      ],
      "metadata": {
        "id": "jAnGgXXTwTHz"
      }
    },
    {
      "cell_type": "code",
      "execution_count": null,
      "metadata": {
        "id": "lxWbr2mFwOll"
      },
      "outputs": [],
      "source": []
    },
    {
      "cell_type": "markdown",
      "source": [],
      "metadata": {
        "id": "GmXw-SmJwRvd"
      }
    }
  ]
}