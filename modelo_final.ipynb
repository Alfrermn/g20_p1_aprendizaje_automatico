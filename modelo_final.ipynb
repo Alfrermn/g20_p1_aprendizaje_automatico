{
  "nbformat": 4,
  "nbformat_minor": 0,
  "metadata": {
    "colab": {
      "provenance": [],
      "toc_visible": true,
      "include_colab_link": true
    },
    "kernelspec": {
      "name": "python3",
      "display_name": "Python 3"
    },
    "language_info": {
      "name": "python"
    }
  },
  "cells": [
    {
      "cell_type": "markdown",
      "metadata": {
        "id": "view-in-github",
        "colab_type": "text"
      },
      "source": [
        "<a href=\"https://colab.research.google.com/github/Alfrermn/g20_p1_aprendizaje_automatico/blob/a/modelo_final.ipynb\" target=\"_parent\"><img src=\"https://colab.research.google.com/assets/colab-badge.svg\" alt=\"Open In Colab\"/></a>"
      ]
    },
    {
      "cell_type": "markdown",
      "source": [
        "# MODELO FINAL"
      ],
      "metadata": {
        "id": "mEQXzFsWYge5"
      }
    },
    {
      "cell_type": "markdown",
      "source": [
        "EJERCICIO 8"
      ],
      "metadata": {
        "id": "VUGBesd4YX4h"
      }
    },
    {
      "cell_type": "markdown",
      "source": [
        "c)"
      ],
      "metadata": {
        "id": "eFzHAKgvYn6j"
      }
    },
    {
      "cell_type": "code",
      "execution_count": 49,
      "metadata": {
        "id": "YPguBY3lWtnk"
      },
      "outputs": [],
      "source": [
        "# Primeramente leemos los datos y los guardamos en dos variables distintas, disp_df y comp_df, con los datos de entrenamiento y pruebas respectivamente.\n",
        "import pandas as pd\n",
        "disp_df = pd.read_csv(\"/disp_st20ns1.txt.bz2\",\n",
        " compression=\"bz2\",\n",
        " index_col=0)\n",
        "comp_df = pd.read_csv(\"/comp_st20ns1.txt.bz2\",\n",
        " compression=\"bz2\",\n",
        " index_col=0)"
      ]
    },
    {
      "cell_type": "code",
      "source": [
        "from sklearn.model_selection import train_test_split\n",
        "from sklearn.metrics import mean_squared_error, mean_absolute_error\n",
        "from sklearn.linear_model import LinearRegression\n",
        "import time\n",
        "import pickle\n",
        "\n",
        "x = disp_df.drop('salida', axis=1)\n",
        "y = disp_df['salida']\n",
        "\n",
        "x_train, x_test, y_train, y_test = train_test_split(x,y, test_size=0.16666666, random_state=20)\n",
        "\n",
        "#Entrenamos el modelo con los mejores hiperparámetros en el conjunto de entrenamiento\n",
        "modelo_final = LinearRegression(copy_X= True, fit_intercept= True, n_jobs= -1, positive= True)\n",
        "\n",
        "modelo_final.fit(x_train, y_train)\n",
        "\n",
        "with open('/modelo_final.pkl', 'wb') as file:\n",
        "    pickle.dump(modelo_final, file)\n"
      ],
      "metadata": {
        "id": "DltMM_v0eaEr"
      },
      "execution_count": 50,
      "outputs": []
    },
    {
      "cell_type": "markdown",
      "source": [
        "Apartado d"
      ],
      "metadata": {
        "id": "yggPkb2riUSY"
      }
    },
    {
      "cell_type": "code",
      "source": [
        "import pandas as pd\n",
        "import numpy as np\n",
        "import pickle\n",
        "\n",
        "# Cargar el modelo final desde el archivo modelo_final.pkl\n",
        "with open('/modelo_final.pkl', 'rb') as f:\n",
        "    model = pickle.load(f)\n",
        "\n",
        "# Obtener las predicciones utilizando el modelo final\n",
        "predicciones = model.predict(comp_df)\n",
        "\n",
        "# Crear un DataFrame con las predicciones y guardarlas en un archivo CSV llamado \"predicciones.csv\"\n",
        "pred_df = pd.DataFrame(predicciones, columns=['salida'])\n",
        "pred_df.to_csv('/predicciones.csv', index=False)\n",
        "\n"
      ],
      "metadata": {
        "id": "LEy4zssIiVax"
      },
      "execution_count": 52,
      "outputs": []
    }
  ]
}