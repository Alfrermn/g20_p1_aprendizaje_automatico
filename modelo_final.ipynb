{
  "nbformat": 4,
  "nbformat_minor": 0,
  "metadata": {
    "colab": {
      "provenance": [],
      "toc_visible": true,
      "include_colab_link": true
    },
    "kernelspec": {
      "name": "python3",
      "display_name": "Python 3"
    },
    "language_info": {
      "name": "python"
    }
  },
  "cells": [
    {
      "cell_type": "markdown",
      "metadata": {
        "id": "view-in-github",
        "colab_type": "text"
      },
      "source": [
        "<a href=\"https://colab.research.google.com/github/Alfrermn/g20_p1_aprendizaje_automatico/blob/a/modelo_final.ipynb\" target=\"_parent\"><img src=\"https://colab.research.google.com/assets/colab-badge.svg\" alt=\"Open In Colab\"/></a>"
      ]
    },
    {
      "cell_type": "markdown",
      "source": [
        "# MODELO FINAL"
      ],
      "metadata": {
        "id": "mEQXzFsWYge5"
      }
    },
    {
      "cell_type": "markdown",
      "source": [
        "EJERCICIO 8"
      ],
      "metadata": {
        "id": "VUGBesd4YX4h"
      }
    },
    {
      "cell_type": "markdown",
      "source": [
        "c)"
      ],
      "metadata": {
        "id": "eFzHAKgvYn6j"
      }
    },
    {
      "cell_type": "code",
      "execution_count": 6,
      "metadata": {
        "id": "YPguBY3lWtnk"
      },
      "outputs": [],
      "source": [
        "# Primeramente leemos los datos y los guardamos en dos variables distintas, disp_df y comp_df, con los datos de entrenamiento y pruebas respectivamente.\n",
        "import pandas as pd\n",
        "disp_df = pd.read_csv(\"/disp_st20ns1.txt.bz2\",\n",
        " compression=\"bz2\",\n",
        " index_col=0)\n",
        "comp_df = pd.read_csv(\"/comp_st20ns1.txt.bz2\",\n",
        " compression=\"bz2\",\n",
        " index_col=0)"
      ]
    },
    {
      "cell_type": "code",
      "source": [
        "import pickle\n",
        "\n",
        "#Evaluación de hiperparámetros ajustados para regresión lineal\n",
        "from sklearn.linear_model import LinearRegression\n",
        "from sklearn.model_selection import GridSearchCV, PredefinedSplit\n",
        "from sklearn.metrics import mean_squared_error, mean_absolute_error\n",
        "from sklearn.model_selection import train_test_split\n",
        "import time\n",
        "\n",
        "\n",
        "X = disp_df.drop(['salida'], axis=1)\n",
        "y = disp_df['salida']\n",
        "\n",
        "# Dividimos los datos en conjuntos de entrenamiento y tests\n",
        "X_train, X_test, y_train, y_test= train_test_split(X, y , shuffle=False, test_size=0.16) \n",
        "\n",
        "\n",
        "#Separamos para el predefined split, con 10 años de entrenamiento y dos de tests\n",
        "n_train = int(10*365)\n",
        "n_valid = int(2*365)\n",
        "selector = [-1] * n_train + [0] * n_valid\n",
        "split = PredefinedSplit(selector)\n",
        "\n",
        "lr = LinearRegression()\n",
        "\n",
        "param = {\n",
        "'positive': [True, False],\n",
        "'n_jobs': [-1, 0, 1],\n",
        "'fit_intercept': [True, False],\n",
        "'copy_X': [True, False]\n",
        "}\n",
        "\n",
        "grid_lr = GridSearchCV(estimator=lr, param_grid=param, scoring='neg_mean_squared_error', cv=split)\n",
        "grid_lr.fit(X, y)\n",
        "\n",
        "#Obtenemos los mejores hiperparámetros y su puntuación\n",
        "best_params = grid_lr.best_params_\n",
        "best_score = grid_lr.best_score_\n",
        "\n",
        "#Entrenamos el modelo con los mejores hiperparámetros en el conjunto de entrenamiento\n",
        "best_lr = LinearRegression(**best_params)\n",
        "start = time.time()\n",
        "best_lr.fit(X_train, y_train)\n",
        "end = time.time()\n",
        "\n",
        "#Realizammos predicciones en el conjunto de prueba\n",
        "y_pred = best_lr.predict(X_test)\n",
        "\n",
        "#Calculamos la puntuación del modelo en el conjunto de prueba\n",
        "rmse = mean_squared_error(y_test, y_pred, squared=False)\n",
        "mae = mean_absolute_error(y_test, y_pred)\n",
        "\n",
        "print(\"Mejores hiperparámetros encontrados: \", best_params)\n",
        "print(\"Puntuación RMSE en conjunto de prueba: \", rmse)\n",
        "print(\"El Tiempo de Entrenamiento es: \", (end-start))\n",
        "\n",
        "# Guardar modelo en archivo\n",
        "with open('modelo_final.pkl', 'wb') as f:\n",
        "    pickle.dump(lr, f)\n"
      ],
      "metadata": {
        "colab": {
          "base_uri": "https://localhost:8080/"
        },
        "id": "DltMM_v0eaEr",
        "outputId": "b523812c-8700-4e16-fce0-36c8ea7273cd"
      },
      "execution_count": 7,
      "outputs": [
        {
          "output_type": "stream",
          "name": "stdout",
          "text": [
            "Mejores hiperparámetros encontrados:  {'copy_X': True, 'fit_intercept': False, 'n_jobs': -1, 'positive': False}\n",
            "Puntuación RMSE en conjunto de prueba:  3275311.065951866\n",
            "El Tiempo de Entrenamiento es:  0.04644966125488281\n"
          ]
        }
      ]
    }
  ]
}